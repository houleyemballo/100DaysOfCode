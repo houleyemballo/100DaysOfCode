{
 "cells": [
  {
   "cell_type": "markdown",
   "metadata": {},
   "source": [
    "Simple project day 1"
   ]
  },
  {
   "cell_type": "code",
   "execution_count": 1,
   "metadata": {},
   "outputs": [
    {
     "name": "stdout",
     "output_type": "stream",
     "text": [
      "Welcome to Band Name Generator!\n",
      "What is the name of the city you grew up in?\n",
      "Louisville\n",
      "What is your favorite pet's name? \n",
      "boop\n",
      "Your band name would be Louisville boop\n"
     ]
    }
   ],
   "source": [
    "print(\"Welcome to Band Name Generator!\")\n",
    "city = input('What is the name of the city you grew up in?\\n')\n",
    "pet = input(\"What is your favorite pet's name? \\n\")\n",
    "print(\"Your band name would be \" + city + \" \" + pet)"
   ]
  }
 ],
 "metadata": {
  "kernelspec": {
   "display_name": "Python 3",
   "language": "python",
   "name": "python3"
  },
  "language_info": {
   "codemirror_mode": {
    "name": "ipython",
    "version": 3
   },
   "file_extension": ".py",
   "mimetype": "text/x-python",
   "name": "python",
   "nbconvert_exporter": "python",
   "pygments_lexer": "ipython3",
   "version": "3.8.5"
  }
 },
 "nbformat": 4,
 "nbformat_minor": 4
}
