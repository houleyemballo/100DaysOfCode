{
 "cells": [
  {
   "cell_type": "markdown",
   "metadata": {},
   "source": [
    "Ex 1: Create a Coin Flip Machine"
   ]
  },
  {
   "cell_type": "code",
   "execution_count": 2,
   "metadata": {},
   "outputs": [
    {
     "name": "stdout",
     "output_type": "stream",
     "text": [
      "Create a seed number: 2\n",
      "Tails\n"
     ]
    }
   ],
   "source": [
    "\n",
    "import random\n",
    "\n",
    "test_seed = int(input(\"Create a seed number: \"))\n",
    "random.seed(test_seed)\n",
    "\n",
    "\n",
    "\n",
    "def heads_tails(num):\n",
    "    numnum = random.randint(0,1)\n",
    "\n",
    "\n",
    "    if numnum == 1:\n",
    "        print('Heads')\n",
    "    else:\n",
    "        print('Tails')\n",
    "\n",
    "\n",
    "heads_tails(test_seed)"
   ]
  },
  {
   "cell_type": "markdown",
   "metadata": {},
   "source": [
    "Ex 2: Select random name from list of names"
   ]
  },
  {
   "cell_type": "code",
   "execution_count": 1,
   "metadata": {},
   "outputs": [
    {
     "name": "stdout",
     "output_type": "stream",
     "text": [
      "Create a seed number: 3\n",
      "Give me everybody's names, separated by a comma. Angela, Ben, Jenny, Michael, Chloe\n",
      "Ben is going to buy the meal today!\n"
     ]
    }
   ],
   "source": [
    "#import relevant library\n",
    "import random\n",
    "\n",
    "#set seed number for reproducibility\n",
    "test_seed = int(input(\"Create a seed number: \"))\n",
    "random.seed(test_seed)\n",
    "\n",
    "#Take input as list of names and split it into a list\n",
    "names_string = input(\"Give me everybody's names, separated by a comma. \")\n",
    "names = names_string.split(\", \")\n",
    "\n",
    "#function to select random person\n",
    "def rand_name(name_list):\n",
    "    pay_num = random.randrange(len(name_list))\n",
    "    pay = name_list[pay_num]\n",
    "    print(f'{pay} is going to buy the meal today!')\n",
    "\n",
    "\n",
    "\n",
    "rand_name(names)"
   ]
  },
  {
   "cell_type": "markdown",
   "metadata": {},
   "source": [
    "Ex 3: Bury treasure on the map"
   ]
  },
  {
   "cell_type": "code",
   "execution_count": 1,
   "metadata": {},
   "outputs": [
    {
     "name": "stdout",
     "output_type": "stream",
     "text": [
      "['⬜️', '⬜️', '⬜️']\n",
      "['⬜️', '⬜️', '⬜️']\n",
      "['⬜️', '⬜️', '⬜️']\n",
      "Where do you want to put the treasure? 22\n",
      "['⬜️', '⬜️', '⬜️']\n",
      "['⬜️', 'X', '⬜️']\n",
      "['⬜️', '⬜️', '⬜️']\n"
     ]
    }
   ],
   "source": [
    "\n",
    "row1 = [\"⬜️\",\"⬜️\",\"⬜️\"]\n",
    "row2 = [\"⬜️\",\"⬜️\",\"⬜️\"]\n",
    "row3 = [\"⬜️\",\"⬜️\",\"⬜️\"]\n",
    "map = [row1, row2, row3]\n",
    "print(f\"{row1}\\n{row2}\\n{row3}\")\n",
    "position = input(\"Where do you want to put the treasure? \")\n",
    "\n",
    "\n",
    "def bury_treasure(location):\n",
    "    local = list(location)\n",
    "    column = int(local[0])\n",
    "    row = int(local[1])\n",
    "    \n",
    "    if row == 1:\n",
    "        row1[column - 1] = 'X'\n",
    "    elif row == 2:\n",
    "        row2[column - 1] = 'X'\n",
    "    elif row == 3:\n",
    "        row3[column - 1] = 'X'\n",
    "\n",
    "bury_treasure(position)\n",
    "\n",
    "print(f\"{row1}\\n{row2}\\n{row3}\")"
   ]
  },
  {
   "cell_type": "markdown",
   "metadata": {},
   "source": [
    "Final Project: Rock Paper Scissors"
   ]
  },
  {
   "cell_type": "code",
   "execution_count": null,
   "metadata": {},
   "outputs": [],
   "source": []
  }
 ],
 "metadata": {
  "kernelspec": {
   "display_name": "Python 3",
   "language": "python",
   "name": "python3"
  },
  "language_info": {
   "codemirror_mode": {
    "name": "ipython",
    "version": 3
   },
   "file_extension": ".py",
   "mimetype": "text/x-python",
   "name": "python",
   "nbconvert_exporter": "python",
   "pygments_lexer": "ipython3",
   "version": "3.8.5"
  }
 },
 "nbformat": 4,
 "nbformat_minor": 4
}
