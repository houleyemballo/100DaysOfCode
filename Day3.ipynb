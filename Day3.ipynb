{
 "cells": [
  {
   "cell_type": "markdown",
   "metadata": {},
   "source": [
    "Ex 1: Write a program that works out whether if a given number is an odd or even number."
   ]
  },
  {
   "cell_type": "code",
   "execution_count": 1,
   "metadata": {},
   "outputs": [
    {
     "name": "stdout",
     "output_type": "stream",
     "text": [
      "Which number do you want to check? 4\n",
      "This is an even number.\n"
     ]
    }
   ],
   "source": [
    "# Add user for number input\n",
    "number = int(input(\"Which number do you want to check? \"))\n",
    "\n",
    "\n",
    "#Function to take in a whole number and return if the number is even or odd\n",
    "def even_or_odd(x):\n",
    "    num = int(x)\n",
    "\n",
    "    if num % 2 == 0:\n",
    "        print(\"This is an even number.\")\n",
    "    else:\n",
    "        print(\"This is an odd number.\")\n",
    "\n",
    "\n",
    "\n",
    "even_or_odd(number)"
   ]
  },
  {
   "cell_type": "markdown",
   "metadata": {},
   "source": [
    "Ex 2: Write a program that interprets the Body Mass Index (BMI) based on a user's weight and height.\n",
    "\n",
    "It should tell them the interpretation of their BMI based on the BMI value.\n",
    "\n",
    "Under 18.5 they are underweight\n",
    "Over 18.5 but below 25 they have a normal weight\n",
    "Over 25 but below 30 they are slightly overweight\n",
    "Over 30 but below 35 they are obese\n",
    "Above 35 they are clinically obese."
   ]
  },
  {
   "cell_type": "code",
   "execution_count": 2,
   "metadata": {},
   "outputs": [
    {
     "name": "stdout",
     "output_type": "stream",
     "text": [
      "enter your height in m: 1.8\n",
      "enter your weight in kg: 89\n",
      "Your BMI is 27, you are slightly overweight.\n"
     ]
    }
   ],
   "source": [
    "\n",
    "height = float(input(\"enter your height in m: \"))\n",
    "weight = float(input(\"enter your weight in kg: \"))\n",
    "\n",
    "def BMI_calc(height, weight):\n",
    "    h = height\n",
    "    w = weight\n",
    "\n",
    "    bmi = round(w / h**2)\n",
    "    \n",
    "    if bmi < 18.5:\n",
    "        print(f'Your BMI is {bmi}, you are underweight.')\n",
    "    elif bmi > 18.5 and bmi < 25:\n",
    "        print(f'Your BMI is {bmi}, you have a normal weight.')\n",
    "    elif bmi > 25 and bmi < 30:\n",
    "        print(f'Your BMI is {bmi}, you are slightly overweight.')\n",
    "    elif bmi > 30 and bmi < 35:\n",
    "        print(f'Your BMI is {bmi}, you are obese.')\n",
    "    elif bmi > 35:\n",
    "        print(f'Your BMI is {bmi}, you are clinically obese.')\n",
    "\n",
    "BMI_calc(height, weight)"
   ]
  },
  {
   "cell_type": "markdown",
   "metadata": {},
   "source": [
    "Ex 3: Write a program that works out whether if a given year is a leap year. "
   ]
  },
  {
   "cell_type": "code",
   "execution_count": 2,
   "metadata": {},
   "outputs": [
    {
     "name": "stdout",
     "output_type": "stream",
     "text": [
      "Which year do you want to check? 2020\n",
      "Leap Year.\n"
     ]
    }
   ],
   "source": [
    "\n",
    "year = int(input(\"Which year do you want to check? \"))\n",
    "\n",
    "\n",
    "\n",
    "def leap_year(year_num):\n",
    "    if ((year_num % 400 == 0) or ((year_num % 4 == 0 )and (year_num %100 != 0))): \n",
    "        print(\"Leap Year.\")\n",
    "    else:\n",
    "        print('Not leap year.')\n",
    "\n",
    "\n",
    "leap_year(year)"
   ]
  },
  {
   "cell_type": "markdown",
   "metadata": {},
   "source": [
    "Ex: 4 Build an automatic pizza order program."
   ]
  },
  {
   "cell_type": "code",
   "execution_count": 2,
   "metadata": {},
   "outputs": [
    {
     "name": "stdout",
     "output_type": "stream",
     "text": [
      "Welcome to Python Pizza Deliveries!\n",
      "What size pizza do you want? S, M, or L S\n",
      "Do you want pepperoni? Y or N Y\n",
      "Do you want extra cheese? Y or N Y\n",
      "Your final bill is: $18\n"
     ]
    }
   ],
   "source": [
    "print(\"Welcome to Python Pizza Deliveries!\")\n",
    "size = input(\"What size pizza do you want? S, M, or L \")\n",
    "add_pepperoni = input(\"Do you want pepperoni? Y or N \")\n",
    "extra_cheese = input(\"Do you want extra cheese? Y or N \")\n",
    "\n",
    "\n",
    "\n",
    "def pizza_total(talla, pep, queso):\n",
    "    total = 0\n",
    "\n",
    "    if talla == 'S':\n",
    "        total += 15\n",
    "    elif talla == 'M':\n",
    "        total += 20\n",
    "    elif talla == 'L':\n",
    "        total += 25\n",
    "    \n",
    "    if pep == 'Y' and talla == 'S':\n",
    "        total += 2\n",
    "    elif (pep == 'Y') and (talla == 'M' or talla == 'L'):\n",
    "        total += 3\n",
    "\n",
    "    if queso == 'Y':\n",
    "        total += 1\n",
    "\n",
    "    print(f\"Your final bill is: ${total}\")\n",
    "\n",
    "pizza_total(size, add_pepperoni, extra_cheese)\n"
   ]
  },
  {
   "cell_type": "markdown",
   "metadata": {},
   "source": [
    "Ex 5: Compatibility Calculator"
   ]
  },
  {
   "cell_type": "code",
   "execution_count": 4,
   "metadata": {},
   "outputs": [
    {
     "name": "stdout",
     "output_type": "stream",
     "text": [
      "Welcome to the Love Calculator!\n",
      "What is your name? \n",
      "Jen\n",
      "What is their name? \n",
      "Jen\n",
      "Your score is 22, and you should break up.\n"
     ]
    }
   ],
   "source": [
    "\n",
    "print(\"Welcome to the Love Calculator!\")\n",
    "name1 = input(\"What is your name? \\n\")\n",
    "name2 = input(\"What is their name? \\n\")\n",
    "\n",
    "\n",
    "def love_calc(a,b):\n",
    "    aname = a.upper()\n",
    "    bname = b.upper()\n",
    "    cname = aname + bname\n",
    "    T = 0\n",
    "    R = 0\n",
    "    U = 0\n",
    "    E = 0\n",
    "    L = 0\n",
    "    O = 0\n",
    "    V = 0\n",
    "\n",
    "    for i in cname:\n",
    "        if i == 'T':\n",
    "            T += 1\n",
    "        if i == 'R':\n",
    "            R += 1\n",
    "        if i == 'U':\n",
    "            U += 1\n",
    "        if i == 'E':\n",
    "            E += 1\n",
    "        if i == 'L':\n",
    "            L += 1\n",
    "        if i == 'O':\n",
    "            O += 1\n",
    "        if i == 'V':\n",
    "            V += 1\n",
    "\n",
    "    score1 = T + R+U+E\n",
    "    score2 = L + O + V + E\n",
    "    \n",
    "    final = str(score1) + str(score2)\n",
    "\n",
    "    print(f'Your score is {final}, and you should break up.')\n",
    "\n",
    "\n",
    "love_calc(name1, name2)"
   ]
  },
  {
   "cell_type": "code",
   "execution_count": null,
   "metadata": {},
   "outputs": [],
   "source": []
  }
 ],
 "metadata": {
  "kernelspec": {
   "display_name": "Python 3",
   "language": "python",
   "name": "python3"
  },
  "language_info": {
   "codemirror_mode": {
    "name": "ipython",
    "version": 3
   },
   "file_extension": ".py",
   "mimetype": "text/x-python",
   "name": "python",
   "nbconvert_exporter": "python",
   "pygments_lexer": "ipython3",
   "version": "3.8.5"
  }
 },
 "nbformat": 4,
 "nbformat_minor": 4
}
