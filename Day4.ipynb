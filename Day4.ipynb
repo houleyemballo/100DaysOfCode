{
 "cells": [
  {
   "cell_type": "markdown",
   "metadata": {},
   "source": [
    "Ex 1: Create a Coin Flip Machine"
   ]
  },
  {
   "cell_type": "code",
   "execution_count": 2,
   "metadata": {},
   "outputs": [
    {
     "name": "stdout",
     "output_type": "stream",
     "text": [
      "Create a seed number: 2\n",
      "Tails\n"
     ]
    }
   ],
   "source": [
    "\n",
    "import random\n",
    "\n",
    "test_seed = int(input(\"Create a seed number: \"))\n",
    "random.seed(test_seed)\n",
    "\n",
    "\n",
    "\n",
    "def heads_tails(num):\n",
    "    numnum = random.randint(0,1)\n",
    "\n",
    "\n",
    "    if numnum == 1:\n",
    "        print('Heads')\n",
    "    else:\n",
    "        print('Tails')\n",
    "\n",
    "\n",
    "heads_tails(test_seed)"
   ]
  },
  {
   "cell_type": "markdown",
   "metadata": {},
   "source": [
    "Ex 2: Select random name from list of names"
   ]
  },
  {
   "cell_type": "code",
   "execution_count": 1,
   "metadata": {},
   "outputs": [
    {
     "name": "stdout",
     "output_type": "stream",
     "text": [
      "Create a seed number: 3\n",
      "Give me everybody's names, separated by a comma. Angela, Ben, Jenny, Michael, Chloe\n",
      "Ben is going to buy the meal today!\n"
     ]
    }
   ],
   "source": [
    "#import relevant library\n",
    "import random\n",
    "\n",
    "#set seed number for reproducibility\n",
    "test_seed = int(input(\"Create a seed number: \"))\n",
    "random.seed(test_seed)\n",
    "\n",
    "#Take input as list of names and split it into a list\n",
    "names_string = input(\"Give me everybody's names, separated by a comma. \")\n",
    "names = names_string.split(\", \")\n",
    "\n",
    "#function to select random person\n",
    "def rand_name(name_list):\n",
    "    pay_num = random.randrange(len(name_list))\n",
    "    pay = name_list[pay_num]\n",
    "    print(f'{pay} is going to buy the meal today!')\n",
    "\n",
    "\n",
    "\n",
    "rand_name(names)"
   ]
  }
 ],
 "metadata": {
  "kernelspec": {
   "display_name": "Python 3",
   "language": "python",
   "name": "python3"
  },
  "language_info": {
   "codemirror_mode": {
    "name": "ipython",
    "version": 3
   },
   "file_extension": ".py",
   "mimetype": "text/x-python",
   "name": "python",
   "nbconvert_exporter": "python",
   "pygments_lexer": "ipython3",
   "version": "3.8.5"
  }
 },
 "nbformat": 4,
 "nbformat_minor": 4
}
