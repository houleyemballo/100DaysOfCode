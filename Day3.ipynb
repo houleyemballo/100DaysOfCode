{
 "cells": [
  {
   "cell_type": "markdown",
   "metadata": {},
   "source": [
    "Ex 1: Write a program that works out whether if a given number is an odd or even number."
   ]
  },
  {
   "cell_type": "code",
   "execution_count": 1,
   "metadata": {},
   "outputs": [
    {
     "name": "stdout",
     "output_type": "stream",
     "text": [
      "Which number do you want to check? 4\n",
      "This is an even number.\n"
     ]
    }
   ],
   "source": [
    "# Add user for number input\n",
    "number = int(input(\"Which number do you want to check? \"))\n",
    "\n",
    "\n",
    "#Function to take in a whole number and return if the number is even or odd\n",
    "def even_or_odd(x):\n",
    "    num = int(x)\n",
    "\n",
    "    if num % 2 == 0:\n",
    "        print(\"This is an even number.\")\n",
    "    else:\n",
    "        print(\"This is an odd number.\")\n",
    "\n",
    "\n",
    "\n",
    "even_or_odd(number)"
   ]
  },
  {
   "cell_type": "markdown",
   "metadata": {},
   "source": [
    "Ex 2: Write a program that interprets the Body Mass Index (BMI) based on a user's weight and height.\n",
    "\n",
    "It should tell them the interpretation of their BMI based on the BMI value.\n",
    "\n",
    "Under 18.5 they are underweight\n",
    "Over 18.5 but below 25 they have a normal weight\n",
    "Over 25 but below 30 they are slightly overweight\n",
    "Over 30 but below 35 they are obese\n",
    "Above 35 they are clinically obese."
   ]
  },
  {
   "cell_type": "code",
   "execution_count": 2,
   "metadata": {},
   "outputs": [
    {
     "name": "stdout",
     "output_type": "stream",
     "text": [
      "enter your height in m: 1.8\n",
      "enter your weight in kg: 89\n",
      "Your BMI is 27, you are slightly overweight.\n"
     ]
    }
   ],
   "source": [
    "\n",
    "height = float(input(\"enter your height in m: \"))\n",
    "weight = float(input(\"enter your weight in kg: \"))\n",
    "\n",
    "def BMI_calc(height, weight):\n",
    "    h = height\n",
    "    w = weight\n",
    "\n",
    "    bmi = round(w / h**2)\n",
    "    \n",
    "    if bmi < 18.5:\n",
    "        print(f'Your BMI is {bmi}, you are underweight.')\n",
    "    elif bmi > 18.5 and bmi < 25:\n",
    "        print(f'Your BMI is {bmi}, you have a normal weight.')\n",
    "    elif bmi > 25 and bmi < 30:\n",
    "        print(f'Your BMI is {bmi}, you are slightly overweight.')\n",
    "    elif bmi > 30 and bmi < 35:\n",
    "        print(f'Your BMI is {bmi}, you are obese.')\n",
    "    elif bmi > 35:\n",
    "        print(f'Your BMI is {bmi}, you are clinically obese.')\n",
    "\n",
    "BMI_calc(height, weight)"
   ]
  },
  {
   "cell_type": "markdown",
   "metadata": {},
   "source": [
    "Ex 3: Write a program that works out whether if a given year is a leap year. A normal year has 365 days, leap years have 366, with an extra day in February. The reason why we have leap years is really fascinating, this video does it more justice:"
   ]
  },
  {
   "cell_type": "code",
   "execution_count": null,
   "metadata": {},
   "outputs": [],
   "source": []
  }
 ],
 "metadata": {
  "kernelspec": {
   "display_name": "Python 3",
   "language": "python",
   "name": "python3"
  },
  "language_info": {
   "codemirror_mode": {
    "name": "ipython",
    "version": 3
   },
   "file_extension": ".py",
   "mimetype": "text/x-python",
   "name": "python",
   "nbconvert_exporter": "python",
   "pygments_lexer": "ipython3",
   "version": "3.8.5"
  }
 },
 "nbformat": 4,
 "nbformat_minor": 4
}
