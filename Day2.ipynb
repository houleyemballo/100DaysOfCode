{
 "cells": [
  {
   "cell_type": "markdown",
   "metadata": {},
   "source": [
    "Day 2 simple exercises"
   ]
  },
  {
   "cell_type": "markdown",
   "metadata": {},
   "source": [
    "1: Write a program that adds the digits in a 2 digit number. e.g. if the input was 35, then the output should be 3 + 5 = 8"
   ]
  },
  {
   "cell_type": "code",
   "execution_count": 2,
   "metadata": {},
   "outputs": [
    {
     "name": "stdout",
     "output_type": "stream",
     "text": [
      "Type a two digit number: 22\n",
      "4\n"
     ]
    }
   ],
   "source": [
    "#Adding each digit in a two digit number\n",
    "two_digit_number = input(\"Type a two digit number: \")\n",
    "\n",
    "####################################\n",
    "\n",
    "digit_one = two_digit_number[0]\n",
    "digit_two = two_digit_number[1]\n",
    "\n",
    "ans = int(digit_one) + int(digit_two)\n",
    "\n",
    "print(ans)"
   ]
  },
  {
   "cell_type": "markdown",
   "metadata": {},
   "source": [
    "2: Write a program that calculates the Body Mass Index (BMI) from a user's weight and height.\n",
    "\n",
    "The BMI is a measure of some's weight taking into account their height. e.g. If a tall person and a short person both weigh the same amount, the short person is usually more overweight.\n",
    "\n",
    "The BMI is calculated by dividing a person's weight (in kg) by the square of their height (in m):"
   ]
  },
  {
   "cell_type": "code",
   "execution_count": 3,
   "metadata": {},
   "outputs": [
    {
     "name": "stdout",
     "output_type": "stream",
     "text": [
      "enter your height in m: 1.75\n",
      "enter your weight in kg: 80\n",
      "26\n"
     ]
    }
   ],
   "source": [
    "#input weight and height\n",
    "height = input(\"enter your height in m: \")\n",
    "weight = input(\"enter your weight in kg: \")\n",
    "\n",
    "\n",
    "##############################################\n",
    "\n",
    "def BMI_calc(w, h):\n",
    "    bmi = float(w) / (float(h) * float(h))\n",
    "\n",
    "    print(round(bmi))\n",
    "\n",
    "\n",
    "BMI_calc(weight, height)"
   ]
  },
  {
   "cell_type": "markdown",
   "metadata": {},
   "source": [
    "3: Create a program using maths and f-Strings that tells us how many days, weeks, months we have left if we live until 90 years old.\n",
    "\n",
    "It will take your current age as the input and output a message with our time left in this format:\n",
    "\n",
    "You have x days, y weeks, and z months left.\n",
    "\n",
    "Where x, y and z are replaced with the actual calculated numbers."
   ]
  },
  {
   "cell_type": "code",
   "execution_count": 4,
   "metadata": {},
   "outputs": [
    {
     "name": "stdout",
     "output_type": "stream",
     "text": [
      "What is your current age? 56\n",
      "You have 12410 days, 1768 weeks, and 408 months left.\n"
     ]
    }
   ],
   "source": [
    "#Input age \n",
    "age = input(\"What is your current age? \")\n",
    "#######################################\n",
    "\n",
    "def life_left(a):\n",
    "    b = int(a)\n",
    "\n",
    "    time_left = 90 - b\n",
    "\n",
    "    days = time_left * 365\n",
    "    weeks = time_left * 52\n",
    "    months = time_left * 12\n",
    "\n",
    "    print(f'You have {days} days, {weeks} weeks, and {months} months left.')\n",
    "\n",
    "life_left(age)"
   ]
  },
  {
   "cell_type": "markdown",
   "metadata": {},
   "source": [
    "Day 2 Project: Tip Calculator"
   ]
  },
  {
   "cell_type": "code",
   "execution_count": 10,
   "metadata": {},
   "outputs": [
    {
     "name": "stdout",
     "output_type": "stream",
     "text": [
      "Welcome to the tip calculator!\n",
      "What was the total bill? 150\n",
      "How much tip would you like to give? 10, 12, or 15? 12\n",
      "How many people to split the bill? 5\n",
      "Each person should pay: $33.60\n"
     ]
    }
   ],
   "source": [
    "\n",
    "\n",
    "\n",
    "print(\"Welcome to the tip calculator!\")\n",
    "total = input(\"What was the total bill? \")\n",
    "tip = input('How much tip would you like to give? 10, 12, or 15? ')\n",
    "num_peeps = input('How many people to split the bill? ')\n",
    "\n",
    "amount_with_tip = (float(total) * (float(tip)/ 100) ) + float(total)\n",
    "\n",
    "each_person_pays = round(amount_with_tip/float(num_peeps),2)\n",
    "\n",
    "print(\"Each person should pay: $%.2f\" %each_person_pays)"
   ]
  },
  {
   "cell_type": "code",
   "execution_count": null,
   "metadata": {},
   "outputs": [],
   "source": []
  }
 ],
 "metadata": {
  "kernelspec": {
   "display_name": "Python 3",
   "language": "python",
   "name": "python3"
  },
  "language_info": {
   "codemirror_mode": {
    "name": "ipython",
    "version": 3
   },
   "file_extension": ".py",
   "mimetype": "text/x-python",
   "name": "python",
   "nbconvert_exporter": "python",
   "pygments_lexer": "ipython3",
   "version": "3.8.5"
  }
 },
 "nbformat": 4,
 "nbformat_minor": 4
}
